{
 "cells": [
  {
   "cell_type": "code",
   "execution_count": 1,
   "id": "17c8d28d-8582-4dff-99d4-09022a6691be",
   "metadata": {},
   "outputs": [
    {
     "name": "stdin",
     "output_type": "stream",
     "text": [
      "Nhap vao do C: 55\n"
     ]
    },
    {
     "name": "stdout",
     "output_type": "stream",
     "text": [
      "Độ F tương ứng là:  131.0 °F\n"
     ]
    }
   ],
   "source": [
    "# Bai tap chuyen doi nhiet do\n",
    "\n",
    "do_C = float(input(\"Nhap vao do C:\"))\n",
    "do_F = ( do_C * 1.8 ) +  32\n",
    "print(\"Độ F tương ứng là: \", do_F, \"°F\")"
   ]
  },
  {
   "cell_type": "code",
   "execution_count": null,
   "id": "68903a92-3df4-407d-9ef7-4e78a834ebce",
   "metadata": {},
   "outputs": [],
   "source": [
    "#Bai tap sua ve ngoi nha mo uoc\n",
    "\n",
    "import turtle\n",
    "\n",
    "t = turtle.Turtle()\n",
    "\n",
    "turtle.bgcolor(\"cyan\")\n",
    "\n",
    "t.penup()\n",
    "t.goto(-200,50)\n",
    "t.pendown()\n",
    "t.pensize(5)\n",
    "t.speed(0)\n",
    "\n",
    "t.color(\"orange\",\"yellow\")\n",
    "t.begin_fill()\n",
    "t.circle(50)\n",
    "t.end_fill()\n",
    "\n",
    "for i in range(8):\n",
    "    t.right(90)\n",
    "    t.forward(40)\n",
    "    t.backward(40)\n",
    "    t.left(90)\n",
    "    t.circle(50,45)\n",
    "\n",
    "t.penup()\n",
    "t.goto(0,0)\n",
    "t.pendown()\n",
    "t.color(\"black\", \"brown\")\n",
    "\n",
    "t.begin_fill()\n",
    "for i in range(3):\n",
    "    t.forward(200)\n",
    "    t.left(120)\n",
    "\n",
    "t.end_fill()\n",
    "\n",
    "t.fillcolor(\"blue\")\n",
    "\n",
    "t.right(90)\n",
    "t.begin_fill()\n",
    "for i in range(3):\n",
    "    t.forward(200)\n",
    "    t.left(90)\n",
    "\n",
    "t.end_fill()\n",
    "\n",
    "t.penup()\n",
    "t.goto(80,-120)\n",
    "t.pendown()\n",
    "t.color(\"black\", \"cornsilk\")\n",
    "\n",
    "t.begin_fill()\n",
    "for i in range(4):\n",
    "    t.left(90)\n",
    "    t.forward(82)\n",
    "t.end_fill()\n",
    "\n",
    "t.penup()\n",
    "t.goto(-150,-200)\n",
    "t.pendown()\n",
    "t.color(\"black\", \"brown\")\n",
    "\n",
    "t.begin_fill()\n",
    "t.forward(20)\n",
    "t.right(90)\n",
    "t.forward(50)\n",
    "t.right(90)\n",
    "t.forward(20)\n",
    "t.right(90)\n",
    "t.forward(50)\n",
    "t.end_fill()\n",
    "\n",
    "t.penup()\n",
    "t.goto(-125,-150)\n",
    "t.pendown()\n",
    "t.color(\"black\", \"brown\")\n",
    "\n",
    "t.right(90)\n",
    "t.begin_fill()\n",
    "for i in range(3):\n",
    "    t.forward(80)\n",
    "    t.right(120)"
   ]
  }
 ],
 "metadata": {
  "kernelspec": {
   "display_name": "Python 3 (ipykernel)",
   "language": "python",
   "name": "python3"
  },
  "language_info": {
   "codemirror_mode": {
    "name": "ipython",
    "version": 3
   },
   "file_extension": ".py",
   "mimetype": "text/x-python",
   "name": "python",
   "nbconvert_exporter": "python",
   "pygments_lexer": "ipython3",
   "version": "3.11.5"
  }
 },
 "nbformat": 4,
 "nbformat_minor": 5
}
