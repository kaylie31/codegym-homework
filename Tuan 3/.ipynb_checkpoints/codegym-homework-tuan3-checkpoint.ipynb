{
 "cells": [
  {
   "cell_type": "code",
   "execution_count": null,
   "id": "93be1a96-5a15-4ff6-99ad-c38794a48a6f",
   "metadata": {},
   "outputs": [],
   "source": [
    "# bmi calculator\n",
    "\n",
    "height = float(input(\"Enter your height in cm:\")) / 100\n",
    "weight = float(input(\"Enter your weight in kg:\"))\n",
    "BMI = weight/(height**2)\n",
    "\n",
    "print(f\"chieu cao {height}, weight {weight}, BMI {BMI}\")\n",
    "\n",
    "if BMI > 40: \n",
    "    print(\"Béo phì cấp độ III\")\n",
    "elif BMI >=35:\n",
    "    print(\"Béo phì cấp độ II\")\n",
    "elif BMI >=30:\n",
    "    print(\"Béo phì cấp độ I\")\n",
    "elif BMI >= 25: \n",
    "    print(\"Thừa cân\")\n",
    "elif BMI >= 18.5:\n",
    "    print(\"Bình thường\")\n",
    "elif BMI >= 17:\n",
    "    print(\"Gầy cấp độ I\")\n",
    "elif BMI >= 15:\n",
    "    print(\"Gầy cấp độ II\")\n",
    "else:\n",
    "    print(\"Gầy cấp độ III\")"
   ]
  },
  {
   "cell_type": "code",
   "execution_count": null,
   "id": "a6425a88-c391-46fe-827a-4a697a83f7d9",
   "metadata": {},
   "outputs": [],
   "source": [
    "# bai tap viet chuong trinh hoi nguoi chi tieu bao nhieu o cua hang\n",
    "\n",
    "spending = float(input(\"Enter how much you spent: \"))\n",
    "if spending >= 150:\n",
    "    discount = 50\n",
    "elif spending >= 100:\n",
    "    discount = 25\n",
    "elif spending >= 75:\n",
    "    discount = 15\n",
    "else:\n",
    "    discount = 0\n",
    "\n",
    "print(f\"So tien ban phai thanh toan la {spending - discount}\")"
   ]
  },
  {
   "cell_type": "code",
   "execution_count": null,
   "id": "fd7f8d0d-7e9e-4edb-9866-29441a65f184",
   "metadata": {},
   "outputs": [],
   "source": [
    "# bai tap hien thi ngay trong tuan\n",
    "\n",
    "try: \n",
    "    weekday = int(input(\"Please input weekday: \"))\n",
    "    if weekday == 2: print(\"Monday\")   \n",
    "    elif weekday == 3: print(\"Tuesday\")\n",
    "    elif weekday == 4: print(\"Wednesday\")\n",
    "    elif weekday == 5: print(\"Thursday\")\n",
    "    elif weekday == 6: print(\"Friday\")\n",
    "    elif weekday == 7: print(\"Saturday\")\n",
    "    else: print(\"Sunday\")\n",
    "\n",
    "except Exception as ex:\n",
    "    print(\"Error:\", ex)"
   ]
  },
  {
   "cell_type": "code",
   "execution_count": null,
   "id": "b1a7d6bf-e861-46af-8c23-2c74224d11c2",
   "metadata": {},
   "outputs": [],
   "source": [
    "#bai tap kiem tra so chan le\n",
    "\n",
    "number = int(input(\"Please input a number: \"))\n",
    "if number % 2 == 0:\n",
    "    print(f\"{number} is even number\")\n",
    "else:\n",
    "    print(f\"{number} is odd number\")"
   ]
  },
  {
   "cell_type": "code",
   "execution_count": 3,
   "id": "f8f08ed0-cba8-475d-9a2a-8105a0ddddc1",
   "metadata": {},
   "outputs": [
    {
     "name": "stdin",
     "output_type": "stream",
     "text": [
      "Nhap so tien USD can doi:  3.4\n",
      "Nhap ti gia USD/VND:  24345.00\n"
     ]
    },
    {
     "name": "stdout",
     "output_type": "stream",
     "text": [
      "So tien tuong ung voi US$3.4 la 82773.0VND\n"
     ]
    }
   ],
   "source": [
    "# bai tap ung dung chuyen doi tien te\n",
    "\n",
    "usd = float(input(\"Nhap so tien USD can doi: \"))\n",
    "ti_gia = float(input(\"Nhap ti gia USD/VND: \"))\n",
    "\n",
    "vnd = usd * ti_gia\n",
    "\n",
    "print(f\"So tien tuong ung voi US${usd} la {vnd}VND\")"
   ]
  },
  {
   "cell_type": "code",
   "execution_count": 4,
   "id": "1daafa9e-0e18-4006-890c-3422b2e66c69",
   "metadata": {},
   "outputs": [
    {
     "name": "stdin",
     "output_type": "stream",
     "text": [
      "Nhap so can kiem tra:  3\n"
     ]
    },
    {
     "name": "stdout",
     "output_type": "stream",
     "text": [
      "Odd\n"
     ]
    }
   ],
   "source": [
    "# bai tap kiem tra so chan hay le\n",
    "\n",
    "num = int(input(\"Nhap so can kiem tra: \"))\n",
    "msg = \"Even\" if num % 2 == 0 else \"Odd\"\n",
    "print(msg)"
   ]
  },
  {
   "cell_type": "code",
   "execution_count": null,
   "id": "e9a2f39d-69bd-45aa-adec-c0abed2d8537",
   "metadata": {},
   "outputs": [],
   "source": []
  }
 ],
 "metadata": {
  "kernelspec": {
   "display_name": "Python 3 (ipykernel)",
   "language": "python",
   "name": "python3"
  },
  "language_info": {
   "codemirror_mode": {
    "name": "ipython",
    "version": 3
   },
   "file_extension": ".py",
   "mimetype": "text/x-python",
   "name": "python",
   "nbconvert_exporter": "python",
   "pygments_lexer": "ipython3",
   "version": "3.11.5"
  }
 },
 "nbformat": 4,
 "nbformat_minor": 5
}
