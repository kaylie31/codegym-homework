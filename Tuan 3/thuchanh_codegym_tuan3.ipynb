{
 "cells": [
  {
   "cell_type": "code",
   "execution_count": 2,
   "id": "22d60210-6b37-4a4f-ae2d-f6f8634254de",
   "metadata": {},
   "outputs": [
    {
     "name": "stdin",
     "output_type": "stream",
     "text": [
      "Enter radius:  4\n"
     ]
    },
    {
     "name": "stdout",
     "output_type": "stream",
     "text": [
      "Chu vi cua hinh tron co ban kinh 4 la 25.132741228718345\n",
      "Dien tich cua hinh tron co ban kinh 4 la 50.26548245743669\n"
     ]
    }
   ],
   "source": [
    "# thuc hanh ve hinh tron va tinh chu vi, dien tich\n",
    "\n",
    "import turtle\n",
    "import math\n",
    "\n",
    "r = int(input(\"Enter radius: \"))\n",
    "\n",
    "t = turtle.Turtle()\n",
    "t.hideturtle()\n",
    "t.pensize(1)\n",
    "t.color(\"red\")\n",
    "t.circle(r)\n",
    "turtle.done()\n",
    "\n",
    "c = r * math.pi * 2\n",
    "a = r ** 2 * math.pi\n",
    "\n",
    "print(f\"Chu vi cua hinh tron co ban kinh {r} la {c}\")\n",
    "print(f\"Dien tich cua hinh tron co ban kinh {r} la {a}\")"
   ]
  },
  {
   "cell_type": "code",
   "execution_count": null,
   "id": "74b8ecdd-77dc-4b74-9a4c-b783c945c585",
   "metadata": {},
   "outputs": [],
   "source": [
    "# thuc hanh to mau cho hinh chu nhat\n",
    "\n",
    "import turtle\n",
    "\n",
    "color = input(\"Nhap mau hoac ma mau cua hinh chu nhat: \")\n",
    "height = float(input(\"Nhap chieu dai cua hinh chu nhat: \"))\n",
    "width = float(input(\"Nhap chieu rong cua hinh chu nhat: \"))\n",
    "\n",
    "t = turtle.Turtle()\n",
    "t.hideturtle()\n",
    "\n",
    "t.color(color)\n",
    "t.begin_fill()\n",
    "\n",
    "i = 0\n",
    "while i < 2:\n",
    "    t.forward(width)\n",
    "    t.right(90)\n",
    "    t.forward(height)\n",
    "    t.right(90)\n",
    "    i += 1\n",
    "\n",
    "t.end_fill()\n",
    "turtle.done()\n",
    "\n",
    "c = 2 * (width + height)\n",
    "a = width * height\n",
    "\n",
    "print(f\"Chu vi của hình chữ nhật dài = {height} , rộng = {width} là {c}\")\n",
    "print(f\"Diện tích của hình chữ nhật dài = {height}, rộng = {width} là {a}\")"
   ]
  },
  {
   "cell_type": "code",
   "execution_count": 1,
   "id": "92ee1bce-105a-4c1a-9af1-46651926a0ad",
   "metadata": {},
   "outputs": [
    {
     "name": "stdin",
     "output_type": "stream",
     "text": [
      "Chon square hoac circle:  dsd\n"
     ]
    },
    {
     "name": "stdout",
     "output_type": "stream",
     "text": [
      "Sorry I don't have this color\n"
     ]
    }
   ],
   "source": [
    "import turtle\n",
    "\n",
    "shape = input(\"Chon square hoac circle: \")\n",
    "if shape == \"square\" or shape == \"circle\":\n",
    "    color = input(\"Nhap mau yellow, red, or blue: \")\n",
    "    if color == \"yellow\" or color == \"red\" or color == \"blue\":\n",
    "        wn = turtle.Screen()\n",
    "        wn.bgcolor(\"black\")\n",
    "        wn.title(\"Your shape\")\n",
    "    \n",
    "        displayShape = turtle.Turtle()\n",
    "        displayShape.shape(shape)\n",
    "        displayShape.color(color)\n",
    "        turtle.done()\n",
    "    else:\n",
    "        print(\"Sorry I don't have this shape\")\n",
    "else:\n",
    "    print(\"Sorry I don't have this color\")"
   ]
  },
  {
   "cell_type": "code",
   "execution_count": 7,
   "id": "ef905424-8b2c-4ac1-989b-e16732c48dac",
   "metadata": {},
   "outputs": [],
   "source": [
    "# thuc hanh to mau hinh\n",
    "\n",
    "import turtle\n",
    "from random import randint\n",
    "\n",
    "num = randint(0, 3)\n",
    "\n",
    "wn = turtle.Screen()\n",
    "wn.bgcolor(\"black\")\n",
    "wn.title(\"Circle\")\n",
    "\n",
    "ball = turtle.Turtle()\n",
    "ball.shape(\"circle\")\n",
    "\n",
    "if num < 1:\n",
    "    ball.color(\"green\")\n",
    "elif num < 1:\n",
    "    ball.color(\"yellow\")\n",
    "else: \n",
    "    ball.color(\"red\")\n",
    "\n",
    "turtle.done()"
   ]
  },
  {
   "cell_type": "code",
   "execution_count": null,
   "id": "2dd94135-526b-4302-9618-31c7f41210a0",
   "metadata": {},
   "outputs": [],
   "source": []
  }
 ],
 "metadata": {
  "kernelspec": {
   "display_name": "Python 3 (ipykernel)",
   "language": "python",
   "name": "python3"
  },
  "language_info": {
   "codemirror_mode": {
    "name": "ipython",
    "version": 3
   },
   "file_extension": ".py",
   "mimetype": "text/x-python",
   "name": "python",
   "nbconvert_exporter": "python",
   "pygments_lexer": "ipython3",
   "version": "3.11.5"
  }
 },
 "nbformat": 4,
 "nbformat_minor": 5
}
