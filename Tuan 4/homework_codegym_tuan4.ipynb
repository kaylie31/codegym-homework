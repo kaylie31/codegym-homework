{
 "cells": [
  {
   "cell_type": "code",
   "execution_count": null,
   "id": "745c9363-fbe1-4ef8-85da-99f013625590",
   "metadata": {},
   "outputs": [],
   "source": [
    "#[Bài tập] Vẽ đường xoắn ốc\n",
    "\n",
    "import turtle\n",
    "\n",
    "d = 5\n",
    "t = turtle.Turtle()\n",
    "t.forward(d)\n",
    "t.left()\n",
    "d += 1"
   ]
  }
 ],
 "metadata": {
  "kernelspec": {
   "display_name": "Python 3 (ipykernel)",
   "language": "python",
   "name": "python3"
  },
  "language_info": {
   "codemirror_mode": {
    "name": "ipython",
    "version": 3
   },
   "file_extension": ".py",
   "mimetype": "text/x-python",
   "name": "python",
   "nbconvert_exporter": "python",
   "pygments_lexer": "ipython3",
   "version": "3.11.5"
  }
 },
 "nbformat": 4,
 "nbformat_minor": 5
}
