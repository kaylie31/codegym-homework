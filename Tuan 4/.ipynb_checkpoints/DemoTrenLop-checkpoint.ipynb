{
 "cells": [
  {
   "cell_type": "code",
   "execution_count": 2,
   "id": "21b58166-0367-4371-84a1-86e9888cb0e4",
   "metadata": {},
   "outputs": [
    {
     "name": "stdout",
     "output_type": "stream",
     "text": [
      "a x  1 = a\n",
      "a x  2 = aa\n",
      "a x  3 = aaa\n",
      "a x  4 = aaaa\n",
      "a x  5 = aaaaa\n",
      "a x  6 = aaaaaa\n",
      "a x  7 = aaaaaaa\n",
      "a x  8 = aaaaaaaa\n",
      "a x  9 = aaaaaaaaa\n",
      "a x  10 = aaaaaaaaaa\n",
      "True x  1 = 1\n",
      "True x  2 = 2\n",
      "True x  3 = 3\n",
      "True x  4 = 4\n",
      "True x  5 = 5\n",
      "True x  6 = 6\n",
      "True x  7 = 7\n",
      "True x  8 = 8\n",
      "True x  9 = 9\n",
      "True x  10 = 10\n",
      "9 x  1 = 9\n",
      "9 x  2 = 18\n",
      "9 x  3 = 27\n",
      "9 x  4 = 36\n",
      "9 x  5 = 45\n",
      "9 x  6 = 54\n",
      "9 x  7 = 63\n",
      "9 x  8 = 72\n",
      "9 x  9 = 81\n",
      "9 x  10 = 90\n",
      "10 x  1 = 10\n",
      "10 x  2 = 20\n",
      "10 x  3 = 30\n",
      "10 x  4 = 40\n",
      "10 x  5 = 50\n",
      "10 x  6 = 60\n",
      "10 x  7 = 70\n",
      "10 x  8 = 80\n",
      "10 x  9 = 90\n",
      "10 x  10 = 100\n"
     ]
    }
   ],
   "source": [
    "'''Viet ham bang cuu chuong'''\n",
    "def inBangCuuChuong(N: int):\n",
    "    for i in range(1,11):\n",
    "        print(f\"{N} x {i: 2} = {N*i}\")\n",
    "\n",
    "# Goi ham\n",
    "inBangCuuChuong(\"a\")\n",
    "inBangCuuChuong(True)\n",
    "inBangCuuChuong(9)\n",
    "inBangCuuChuong(10)"
   ]
  },
  {
   "cell_type": "code",
   "execution_count": 4,
   "id": "5a24bb93-e6d1-46d6-8a6c-35b4420054e3",
   "metadata": {},
   "outputs": [
    {
     "name": "stdout",
     "output_type": "stream",
     "text": [
      "11.0\n"
     ]
    }
   ],
   "source": [
    "import math\n",
    "def g(x,y):\n",
    "    return math.sqrt(x) + math.sqrt(y)\n",
    "\n",
    "gia_tri = g(25,36)\n",
    "print(gia_tri)"
   ]
  },
  {
   "cell_type": "code",
   "execution_count": 6,
   "id": "17e956c7-03a5-4e60-9318-9cd3eea8ef69",
   "metadata": {},
   "outputs": [
    {
     "name": "stdout",
     "output_type": "stream",
     "text": [
      "Begin x = 7, y = 9.1\n",
      "Inside x = 45.5, y = 9.1\n",
      "End x = 7, y = 9.1\n"
     ]
    }
   ],
   "source": [
    "'''Demo pham vi cua bien'''\n",
    "def tinhToan(x,y):\n",
    "    x = y * 5\n",
    "    print(f\"Inside x = {x}, y = {y}\")\n",
    "\n",
    "#Goi ham\n",
    "x = 7\n",
    "y = 9.1\n",
    "print(f\"Begin x = {x}, y = {y}\")\n",
    "tinhToan(x,y)\n",
    "print(f\"End x = {x}, y = {y}\")"
   ]
  },
  {
   "cell_type": "code",
   "execution_count": 9,
   "id": "b8425f55-e4a1-4d81-a614-abaae373268c",
   "metadata": {},
   "outputs": [
    {
     "name": "stdout",
     "output_type": "stream",
     "text": [
      "Begin x = 7, y = 9.1\n",
      "Inside x = 45.5, y = 9.1\n",
      "End x = 45.5, y = 9.1\n"
     ]
    }
   ],
   "source": [
    "'''Demo pham vi cua bien toan cuc (global)'''\n",
    "\n",
    "def tinhToan():\n",
    "    global x\n",
    "    global y\n",
    "    x = y * 5\n",
    "    print(f\"Inside x = {x}, y = {y}\")\n",
    "\n",
    "#Goi ham\n",
    "x = 7\n",
    "y = 9.1\n",
    "\n",
    "print(f\"Begin x = {x}, y = {y}\")\n",
    "tinhToan()\n",
    "print(f\"End x = {x}, y = {y}\")"
   ]
  },
  {
   "cell_type": "code",
   "execution_count": 15,
   "id": "12962fbb-0799-475b-8dc3-729c9011ba49",
   "metadata": {},
   "outputs": [
    {
     "name": "stdout",
     "output_type": "stream",
     "text": [
      "Before [7, 8]\n",
      "Inside [7, 8, 9]\n",
      "After [7, 8]\n"
     ]
    }
   ],
   "source": [
    "def themDanhSach(arr):\n",
    "    arr = arr + [9]\n",
    "    print(f'Inside {arr}')\n",
    "\n",
    "#Demo 1: mutable\n",
    "arr = [7, 8]\n",
    "print(f'Before {arr}')\n",
    "themDanhSach(arr)\n",
    "print(f'After {arr}')"
   ]
  },
  {
   "cell_type": "code",
   "execution_count": null,
   "id": "546b73a5-85d4-42c0-b393-bfbed843dee6",
   "metadata": {},
   "outputs": [],
   "source": []
  }
 ],
 "metadata": {
  "kernelspec": {
   "display_name": "Python 3 (ipykernel)",
   "language": "python",
   "name": "python3"
  },
  "language_info": {
   "codemirror_mode": {
    "name": "ipython",
    "version": 3
   },
   "file_extension": ".py",
   "mimetype": "text/x-python",
   "name": "python",
   "nbconvert_exporter": "python",
   "pygments_lexer": "ipython3",
   "version": "3.11.5"
  }
 },
 "nbformat": 4,
 "nbformat_minor": 5
}
