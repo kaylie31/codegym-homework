{
 "cells": [
  {
   "cell_type": "code",
   "execution_count": 1,
   "id": "745c9363-fbe1-4ef8-85da-99f013625590",
   "metadata": {},
   "outputs": [],
   "source": [
    "#[Bài tập] Vẽ đường xoắn ốc\n",
    "\n",
    "import turtle\n",
    "\n",
    "t = turtle.Turtle()\n",
    "for i in range(100):\n",
    "    t.forward(i)\n",
    "    t.right(15)\n",
    "\n",
    "turtle.done()"
   ]
  },
  {
   "cell_type": "code",
   "execution_count": 6,
   "id": "8b3aa735-dc60-4f05-a505-1620280df1b1",
   "metadata": {},
   "outputs": [
    {
     "name": "stdout",
     "output_type": "stream",
     "text": [
      "Bua = 1, Keo = 2, Bao = 3\n"
     ]
    },
    {
     "name": "stdin",
     "output_type": "stream",
     "text": [
      "Nhap so tu 1 den 3:  2\n"
     ]
    },
    {
     "name": "stdout",
     "output_type": "stream",
     "text": [
      "May chon 3, nguoi choi chon 2\n",
      "May thang\n"
     ]
    }
   ],
   "source": [
    "#[Bài tập] The 21 Game\n",
    "print('Bua Keo Bao')\n",
    "print('Bua = 1, Keo = 2, Bao = 3')\n",
    "\n",
    "from random import randint\n",
    "\n",
    "may_tinh = randint(1,3)\n",
    "nguoi_choi = int(input(\"Nhap so tu 1 den 3: \"))\n",
    "print (f\"May chon {may_tinh}, nguoi choi chon {nguoi_choi}\")\n",
    "\n",
    "if may_tinh == nguoi_choi:\n",
    "    print('Hoa')\n",
    "elif may_tinh == 1:\n",
    "    print(\"Nguoi thang\" if may_tinh == 3 else \"May thang\")\n",
    "elif may_tinh == 2:\n",
    "    print(\"Nguoi thang\" if may_tinh == 1 else \"May thang\")\n",
    "elif may_tinh == 3:\n",
    "    print(\"Nguoi thang\" if may_tinh == 2 else \"May thang\")"
   ]
  },
  {
   "cell_type": "code",
   "execution_count": 12,
   "id": "11737e09-4e7b-468b-ba26-a9648c2b59b6",
   "metadata": {},
   "outputs": [
    {
     "name": "stdout",
     "output_type": "stream",
     "text": [
      "Bang cuu chuong \n",
      "\n",
      "1 *  1 = 1\n",
      "1 *  2 = 2\n",
      "1 *  3 = 3\n",
      "1 *  4 = 4\n",
      "1 *  5 = 5\n",
      "1 *  6 = 6\n",
      "1 *  7 = 7\n",
      "1 *  8 = 8\n",
      "1 *  9 = 9\n",
      "1 * 10 = 10\n",
      "\n",
      "\n",
      "2 *  1 = 2\n",
      "2 *  2 = 4\n",
      "2 *  3 = 6\n",
      "2 *  4 = 8\n",
      "2 *  5 = 10\n",
      "2 *  6 = 12\n",
      "2 *  7 = 14\n",
      "2 *  8 = 16\n",
      "2 *  9 = 18\n",
      "2 * 10 = 20\n",
      "\n",
      "\n",
      "3 *  1 = 3\n",
      "3 *  2 = 6\n",
      "3 *  3 = 9\n",
      "3 *  4 = 12\n",
      "3 *  5 = 15\n",
      "3 *  6 = 18\n",
      "3 *  7 = 21\n",
      "3 *  8 = 24\n",
      "3 *  9 = 27\n",
      "3 * 10 = 30\n",
      "\n",
      "\n",
      "4 *  1 = 4\n",
      "4 *  2 = 8\n",
      "4 *  3 = 12\n",
      "4 *  4 = 16\n",
      "4 *  5 = 20\n",
      "4 *  6 = 24\n",
      "4 *  7 = 28\n",
      "4 *  8 = 32\n",
      "4 *  9 = 36\n",
      "4 * 10 = 40\n",
      "\n",
      "\n",
      "5 *  1 = 5\n",
      "5 *  2 = 10\n",
      "5 *  3 = 15\n",
      "5 *  4 = 20\n",
      "5 *  5 = 25\n",
      "5 *  6 = 30\n",
      "5 *  7 = 35\n",
      "5 *  8 = 40\n",
      "5 *  9 = 45\n",
      "5 * 10 = 50\n",
      "\n",
      "\n",
      "6 *  1 = 6\n",
      "6 *  2 = 12\n",
      "6 *  3 = 18\n",
      "6 *  4 = 24\n",
      "6 *  5 = 30\n",
      "6 *  6 = 36\n",
      "6 *  7 = 42\n",
      "6 *  8 = 48\n",
      "6 *  9 = 54\n",
      "6 * 10 = 60\n",
      "\n",
      "\n",
      "7 *  1 = 7\n",
      "7 *  2 = 14\n",
      "7 *  3 = 21\n",
      "7 *  4 = 28\n",
      "7 *  5 = 35\n",
      "7 *  6 = 42\n",
      "7 *  7 = 49\n",
      "7 *  8 = 56\n",
      "7 *  9 = 63\n",
      "7 * 10 = 70\n",
      "\n",
      "\n",
      "8 *  1 = 8\n",
      "8 *  2 = 16\n",
      "8 *  3 = 24\n",
      "8 *  4 = 32\n",
      "8 *  5 = 40\n",
      "8 *  6 = 48\n",
      "8 *  7 = 56\n",
      "8 *  8 = 64\n",
      "8 *  9 = 72\n",
      "8 * 10 = 80\n",
      "\n",
      "\n",
      "9 *  1 = 9\n",
      "9 *  2 = 18\n",
      "9 *  3 = 27\n",
      "9 *  4 = 36\n",
      "9 *  5 = 45\n",
      "9 *  6 = 54\n",
      "9 *  7 = 63\n",
      "9 *  8 = 72\n",
      "9 *  9 = 81\n",
      "9 * 10 = 90\n",
      "\n",
      "\n"
     ]
    }
   ],
   "source": [
    "#[Bài tập] Sinh bảng cửu chương\n",
    "print(\"Bang cuu chuong\", \"\\n\")\n",
    "for i in range (1,10):\n",
    "    for j in range(1,11):\n",
    "        print(f\"{i} * {j:2} = {i*j}\")\n",
    "    print('\\n')"
   ]
  },
  {
   "cell_type": "code",
   "execution_count": null,
   "id": "afe59134-f3cd-4103-a522-a224c93bc32c",
   "metadata": {},
   "outputs": [],
   "source": []
  }
 ],
 "metadata": {
  "kernelspec": {
   "display_name": "Python 3 (ipykernel)",
   "language": "python",
   "name": "python3"
  },
  "language_info": {
   "codemirror_mode": {
    "name": "ipython",
    "version": 3
   },
   "file_extension": ".py",
   "mimetype": "text/x-python",
   "name": "python",
   "nbconvert_exporter": "python",
   "pygments_lexer": "ipython3",
   "version": "3.11.5"
  }
 },
 "nbformat": 4,
 "nbformat_minor": 5
}
