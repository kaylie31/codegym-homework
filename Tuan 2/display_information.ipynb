{
 "cells": [
  {
   "cell_type": "code",
   "execution_count": 1,
   "id": "bdfd5a3a-9291-4811-844b-fb6a18909bbc",
   "metadata": {},
   "outputs": [
    {
     "name": "stdin",
     "output_type": "stream",
     "text": [
      "Ten cua ban: nguyen le khanh\n",
      "Ngay sinh cua ban theo cu phap DDMMYYYY 03011995\n",
      "Dia chi cua ban: canada\n",
      "Muc dich den voi khoa hoc: doi nganh\n"
     ]
    },
    {
     "name": "stdout",
     "output_type": "stream",
     "text": [
      "nguyen le khanh sinh 03011995 o canada den voi khoa hoc Python voi muc dich doi nganh\n"
     ]
    }
   ],
   "source": [
    "ho_ten = input(\"Ten cua ban:\")\n",
    "ngay_sinh = input(\"Ngay sinh cua ban theo cu phap DDMMYYYY\")\n",
    "dia_chi = input(\"Dia chi cua ban:\")\n",
    "muc_dich = input(\"Muc dich den voi khoa hoc:\")\n",
    "print(f\"{ho_ten} sinh {ngay_sinh} o {dia_chi} den voi khoa hoc Python voi muc dich {muc_dich}\")"
   ]
  },
  {
   "cell_type": "code",
   "execution_count": null,
   "id": "990d3118-05fa-49c0-8df6-a902c8581770",
   "metadata": {},
   "outputs": [],
   "source": []
  }
 ],
 "metadata": {
  "kernelspec": {
   "display_name": "Python 3 (ipykernel)",
   "language": "python",
   "name": "python3"
  },
  "language_info": {
   "codemirror_mode": {
    "name": "ipython",
    "version": 3
   },
   "file_extension": ".py",
   "mimetype": "text/x-python",
   "name": "python",
   "nbconvert_exporter": "python",
   "pygments_lexer": "ipython3",
   "version": "3.11.5"
  }
 },
 "nbformat": 4,
 "nbformat_minor": 5
}
