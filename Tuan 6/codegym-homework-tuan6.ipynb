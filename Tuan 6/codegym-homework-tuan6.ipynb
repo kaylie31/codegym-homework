{
 "cells": [
  {
   "cell_type": "code",
   "execution_count": 3,
   "metadata": {},
   "outputs": [
    {
     "name": "stdout",
     "output_type": "stream",
     "text": [
      "[88, 44, 22, 1, 35]\n",
      "Hai số lớn nhất trong danh sách: [88, 44]\n"
     ]
    }
   ],
   "source": [
    "# [Bài tập] Tìm hai số lớn nhất của list vừa tạo được\n",
    "import random\n",
    "\n",
    "# Độ dài của danh sách (số phần tử bạn muốn)\n",
    "list_length = random.randint(1,10)  # Thay đổi số lượng phần tử tùy ý\n",
    "\n",
    "# Tạo danh sách ngẫu nhiên chứa các số nguyên từ 1 đến 100\n",
    "random_list = [random.randint(1, 100) for _ in range(list_length)]\n",
    "\n",
    "print(random_list)\n",
    "\n",
    "# Sắp xếp danh sách theo thứ tự giảm dần\n",
    "random_list.sort(reverse=True)\n",
    "\n",
    "if len(random_list) < 2:\n",
    "    print(\"Danh sách không có đủ số để tìm hai số lớn nhất.\")\n",
    "else:\n",
    "    # Lấy hai số lớn nhất\n",
    "    largest_numbers = random_list[:2]\n",
    "    print(\"Hai số lớn nhất trong danh sách:\", largest_numbers)\n"
   ]
  },
  {
   "cell_type": "code",
   "execution_count": 4,
   "metadata": {},
   "outputs": [
    {
     "name": "stdout",
     "output_type": "stream",
     "text": [
      "Từ 'cat' được dịch sang tiếng Việt là: 'con mèo'\n"
     ]
    }
   ],
   "source": [
    "# [Bài tập] Từ điển (Python)\n",
    "\n",
    "# Khai báo từ điển tiếng Anh - tiếng Việt\n",
    "dictionary = {\n",
    "    \"hello\": \"xin chào\",\n",
    "    \"goodbye\": \"tạm biệt\",\n",
    "    \"cat\": \"con mèo\",\n",
    "    \"dog\": \"con chó\",\n",
    "    \"apple\": \"quả táo\"\n",
    "}\n",
    "\n",
    "# Hàm tìm và in từ sau khi được dịch\n",
    "def translate_word(dictionary, word):\n",
    "    for key, value in dictionary.items():\n",
    "        if word == key:\n",
    "            return value\n",
    "    return None\n",
    "\n",
    "# Nhập từ cần dịch\n",
    "input_word = input(\"Nhập từ tiếng Anh cần dịch: \").lower()\n",
    "\n",
    "# Gọi hàm tìm từ cần dịch\n",
    "translated_word = translate_word(dictionary, input_word)\n",
    "\n",
    "# In ra kết quả\n",
    "if translated_word is not None:\n",
    "    print(\"Từ '{}' được dịch sang tiếng Việt là: '{}'\".format(input_word, translated_word))\n",
    "else:\n",
    "    print(\"Từ '{}' không có trong từ điển.\".format(input_word))\n"
   ]
  },
  {
   "cell_type": "code",
   "execution_count": 12,
   "metadata": {},
   "outputs": [
    {
     "name": "stdout",
     "output_type": "stream",
     "text": [
      "Rùa đỏ thắng cuộc!\n",
      "Thời gian chạy của rùa đỏ: 0:00:04.000359\n"
     ]
    }
   ],
   "source": [
    "#[Bài tập] Cuộc đua của những chú rùa phần 2\n",
    "import turtle\n",
    "import datetime\n",
    "\n",
    "# Khởi tạo màn hình và các con rùa\n",
    "wn = turtle.Screen()\n",
    "wn.setup(width=800, height=400)\n",
    "wn.bgcolor(\"white\")\n",
    "\n",
    "turtle1 = turtle.Turtle()\n",
    "turtle1.shape(\"turtle\")\n",
    "turtle1.color(\"red\")\n",
    "turtle1.penup()\n",
    "turtle1.goto(-300, 0)\n",
    "\n",
    "turtle2 = turtle.Turtle()\n",
    "turtle2.shape(\"turtle\")\n",
    "turtle2.color(\"blue\")\n",
    "turtle2.penup()\n",
    "turtle2.goto(-300, -50)\n",
    "\n",
    "# Bắt đầu thời gian chạy\n",
    "start_time = datetime.datetime.now()\n",
    "\n",
    "while True:\n",
    "    # Di chuyển từng con rùa một ngẫu nhiên\n",
    "    turtle1.forward(5)\n",
    "    turtle2.forward(5)\n",
    "\n",
    "    # Kiểm tra xem có con rùa nào đã cán đích chưa\n",
    "    if turtle1.xcor() >= 300:\n",
    "        end_time = datetime.datetime.now()\n",
    "        race_time = end_time - start_time\n",
    "        print(\"Rùa đỏ thắng cuộc!\")\n",
    "        print(\"Thời gian chạy của rùa đỏ:\", race_time)\n",
    "        break\n",
    "    elif turtle2.xcor() >= 300:\n",
    "        end_time = datetime.datetime.now()\n",
    "        race_time = end_time - start_time\n",
    "        print(\"Rùa xanh thắng cuộc!\")\n",
    "        print(\"Thời gian chạy của rùa xanh:\", race_time)\n",
    "        break\n",
    "\n",
    "# Đóng cửa sổ khi người dùng nhấn chuột\n",
    "wn.exitonclick()\n"
   ]
  },
  {
   "cell_type": "code",
   "execution_count": null,
   "metadata": {},
   "outputs": [],
   "source": [
    "#[Bài tập] Count number of occurrence of words in a given text.\n",
    "\n",
    "# Khai báo hàm đếm số lần xuất hiện của một từ trong một văn bản\n",
    "def count_word_occurrences(text):\n",
    "    num_words = {}\n",
    "    text_list = text.split()\n",
    "    \n",
    "    for word in text_list:\n",
    "        word = word.lower().strip()\n",
    "        num_words[word] = num_words.get(word, 0) + 1\n",
    "\n",
    "    return num_words\n",
    "\n",
    "# Chuỗi văn bản cần đếm\n",
    "message = \"This is a sample text. This text is a simple example of a text to count.\"\n",
    "\n",
    "# Gọi hàm đếm từ\n",
    "word_count = count_word_occurrences(message)\n",
    "\n",
    "# Hiển thị kết quả\n",
    "word_to_count = \"text\"  # Từ cần đếm số lần xuất hiện\n",
    "if word_to_count in word_count:\n",
    "    print(f\"The word '{word_to_count}' appears {word_count[word_to_count]} times in the text.\")\n",
    "else:\n",
    "    print(f\"The word '{word_to_count}' does not appear in the text.\")\n"
   ]
  },
  {
   "cell_type": "code",
   "execution_count": 5,
   "metadata": {},
   "outputs": [
    {
     "name": "stdout",
     "output_type": "stream",
     "text": [
      "Chọn một trong các lựa chọn sau:\n",
      "1. Hiển thị danh sách sản phẩm\n",
      "2. Thêm sản phẩm mới\n",
      "3. Sửa tên sản phẩm\n",
      "4. Xoá sản phẩm\n",
      "5. Thoát\n",
      "Danh sách sản phẩm:\n",
      "ID: 1, Tên: Product 1\n",
      "ID: 2, Tên: Product 2\n",
      "ID: 3, Tên: Product 3\n",
      "Danh sách sản phẩm sau khi quản lý:\n",
      "ID: 1, Tên: Product 1\n",
      "ID: 2, Tên: Product 2\n",
      "ID: 3, Tên: Product 3\n",
      "Chọn một trong các lựa chọn sau:\n",
      "1. Hiển thị danh sách sản phẩm\n",
      "2. Thêm sản phẩm mới\n",
      "3. Sửa tên sản phẩm\n",
      "4. Xoá sản phẩm\n",
      "5. Thoát\n",
      "Danh sách sản phẩm sau khi quản lý:\n",
      "ID: 1, Tên: Product 1\n",
      "ID: 2, Tên: Product 2\n",
      "ID: 3, Tên: Product 3\n",
      "ID: 5, Tên: 5\n",
      "Chọn một trong các lựa chọn sau:\n",
      "1. Hiển thị danh sách sản phẩm\n",
      "2. Thêm sản phẩm mới\n",
      "3. Sửa tên sản phẩm\n",
      "4. Xoá sản phẩm\n",
      "5. Thoát\n"
     ]
    }
   ],
   "source": [
    "#[Bài tập] Ứng dụng quản lý sản phẩm\n",
    "\n",
    "# Khai báo hàm lấy thông tin sản phẩm bằng id sản phẩm\n",
    "def get_product_by_id(product_list, product_id):\n",
    "    for product in product_list:\n",
    "        if product[\"id\"] == product_id:\n",
    "            return product\n",
    "    return None\n",
    "\n",
    "# Khai báo hàm cập nhật danh sách sản phẩm\n",
    "def update_product_list(product_list, product_id, new_name):\n",
    "    product = get_product_by_id(product_list, product_id)\n",
    "    if product is not None:\n",
    "        product[\"name\"] = new_name\n",
    "    else:\n",
    "        product_list.append({\"id\": product_id, \"name\": new_name})\n",
    "\n",
    "# Khởi tạo danh sách sản phẩm\n",
    "products = [\n",
    "    {\"id\": 1, \"name\": \"Product 1\"},\n",
    "    {\"id\": 2, \"name\": \"Product 2\"},\n",
    "    {\"id\": 3, \"name\": \"Product 3\"},\n",
    "]\n",
    "\n",
    "# Khởi tạo vòng lặp\n",
    "while True:\n",
    "    # In ra các lựa chọn cho người dùng\n",
    "    print(\"Chọn một trong các lựa chọn sau:\")\n",
    "    print(\"1. Hiển thị danh sách sản phẩm\")\n",
    "    print(\"2. Thêm sản phẩm mới\")\n",
    "    print(\"3. Sửa tên sản phẩm\")\n",
    "    print(\"4. Xoá sản phẩm\")\n",
    "    print(\"5. Thoát\")\n",
    "\n",
    "    # Lấy lựa chọn từ người dùng\n",
    "    option = int(input(\"Nhập lựa chọn: \"))\n",
    "\n",
    "    if option == 1:\n",
    "        # Hiển thị danh sách sản phẩm\n",
    "        print(\"Danh sách sản phẩm:\")\n",
    "        for product in products:\n",
    "            print(f\"ID: {product['id']}, Tên: {product['name']}\")\n",
    "\n",
    "    elif option == 2:\n",
    "        # Thêm sản phẩm mới\n",
    "        product_id = int(input(\"Nhập ID sản phẩm: \"))\n",
    "        product_name = input(\"Nhập tên sản phẩm: \")\n",
    "        update_product_list(products, product_id, product_name)\n",
    "\n",
    "    elif option == 3:\n",
    "        # Sửa tên sản phẩm\n",
    "        product_id = int(input(\"Nhập ID sản phẩm cần sửa: \"))\n",
    "        product_name = input(\"Nhập tên mới cho sản phẩm: \")\n",
    "        update_product_list(products, product_id, product_name)\n",
    "\n",
    "    elif option == 4:\n",
    "        # Xoá sản phẩm\n",
    "        product_id = int(input(\"Nhập ID sản phẩm cần xoá: \"))\n",
    "        product = get_product_by_id(products, product_id)\n",
    "        if product is not None:\n",
    "            products.remove(product)\n",
    "            print(f\"Xoá sản phẩm thành công.\")\n",
    "        else:\n",
    "            print(f\"Sản phẩm với ID {product_id} không tồn tại.\")\n",
    "\n",
    "    elif option == 5:\n",
    "        # Thoát khỏi ứng dụng\n",
    "        break\n",
    "\n",
    "    else:\n",
    "        print(\"Lựa chọn không hợp lệ.\")\n",
    "\n",
    "    # In ra danh sách sản phẩm sau khi quản lý\n",
    "    print(\"Danh sách sản phẩm sau khi quản lý:\")\n",
    "    for product in products:\n",
    "        print(f\"ID: {product['id']}, Tên: {product['name']}\")\n"
   ]
  },
  {
   "cell_type": "code",
   "execution_count": 13,
   "metadata": {},
   "outputs": [
    {
     "name": "stdout",
     "output_type": "stream",
     "text": [
      "{1: 2, '1': 2} 4\n"
     ]
    }
   ],
   "source": [
    "a = {}\n",
    "\n",
    "a[1] = 1\n",
    "a['1'] = 2\n",
    "\n",
    "a[1]=a[1]+1\n",
    "\n",
    "count = 0\n",
    "\n",
    "for i in a:\n",
    "    count += a[i]\n",
    "\n",
    "print(a, count)"
   ]
  },
  {
   "cell_type": "code",
   "execution_count": 9,
   "metadata": {},
   "outputs": [
    {
     "name": "stdout",
     "output_type": "stream",
     "text": [
      "{'Apple': 2, 'Ball': 1}\n",
      "2\n"
     ]
    }
   ],
   "source": [
    "total={}\n",
    "\n",
    "def insert(items):\n",
    "\n",
    "    if items in total:\n",
    "\n",
    "        total[items] += 1\n",
    "\n",
    "    else:\n",
    "\n",
    "        total[items] = 1\n",
    "\n",
    "insert(\"Apple\")\n",
    "\n",
    "insert(\"Ball\")\n",
    "\n",
    "insert(\"Apple\")\n",
    "print(total)\n",
    "\n",
    "print (len(total))"
   ]
  },
  {
   "cell_type": "code",
   "execution_count": 10,
   "metadata": {},
   "outputs": [
    {
     "name": "stdout",
     "output_type": "stream",
     "text": [
      "{'Numbers': {1: 56, 3: 7}, 'Letters': {4: 'B'}}\n"
     ]
    }
   ],
   "source": [
    "numbers = {}\n",
    "letters = {}\n",
    "comb = {}\n",
    "\n",
    "numbers[1] = 56\n",
    "numbers[3] = 7\n",
    "letters[4] = 'B'\n",
    "\n",
    "comb['Numbers'] = numbers\n",
    "\n",
    "comb['Letters'] = letters\n",
    "\n",
    "print(comb)"
   ]
  },
  {
   "cell_type": "code",
   "execution_count": 14,
   "metadata": {},
   "outputs": [
    {
     "name": "stdout",
     "output_type": "stream",
     "text": [
      "{1: 4, '1': 2} 6\n"
     ]
    }
   ],
   "source": [
    "a = {}\n",
    "\n",
    "a[1] = 1\n",
    "a['1'] = 2\n",
    "a[1.0]=4\n",
    "\n",
    "count = 0\n",
    "\n",
    "for i in a:\n",
    "    count += a[i]\n",
    "\n",
    "print(a, count)\n",
    "\n"
   ]
  }
 ],
 "metadata": {
  "kernelspec": {
   "display_name": "Python 3",
   "language": "python",
   "name": "python3"
  },
  "language_info": {
   "codemirror_mode": {
    "name": "ipython",
    "version": 3
   },
   "file_extension": ".py",
   "mimetype": "text/x-python",
   "name": "python",
   "nbconvert_exporter": "python",
   "pygments_lexer": "ipython3",
   "version": "3.11.5"
  }
 },
 "nbformat": 4,
 "nbformat_minor": 2
}
