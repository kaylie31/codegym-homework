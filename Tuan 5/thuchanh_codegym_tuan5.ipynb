{
 "cells": [
  {
   "cell_type": "code",
   "execution_count": null,
   "metadata": {},
   "outputs": [],
   "source": [
    "#[Thực hành] Vẽ hình vuông sử dụng hàm\n",
    "import turtle\n",
    "\n",
    "t = turtle.Turtle()\n",
    "t.hideturtle()\n",
    "t.pencolor('cyan')\n",
    "\n",
    "def draw_square(length):\n",
    "    for i in range(4):\n",
    "        t.forward(length)\n",
    "        t.right(90)\n",
    "    turtle.done()\n",
    "\n",
    "draw_square(100)"
   ]
  },
  {
   "cell_type": "code",
   "execution_count": 1,
   "metadata": {},
   "outputs": [],
   "source": [
    "#[Thực hành] Vẽ hình đa giác sử dụng hàm\n",
    "import turtle\n",
    "\n",
    "t = turtle.Turtle()\n",
    "t.hideturtle()\n",
    "t.pencolor('red')\n",
    "\n",
    "def draw(n, width):\n",
    "    angle = 180 * (n-2) / n\n",
    "    for i in range(n):\n",
    "        t.forward(width)\n",
    "        t.left(180 - angle)\n",
    "    turtle.done()\n",
    "\n",
    "draw(6,100)"
   ]
  },
  {
   "cell_type": "code",
   "execution_count": 2,
   "metadata": {},
   "outputs": [
    {
     "name": "stdout",
     "output_type": "stream",
     "text": [
      "23.333333333333332\n",
      "37.77777777777778\n",
      "0.0\n"
     ]
    }
   ],
   "source": [
    "#[Thực hành] Chuyển đổi nhiệt độ\n",
    "def trans(f):\n",
    "    return (f - 32) / 1.8\n",
    "\n",
    "print(trans(74))\n",
    "print(trans(100))\n",
    "print(trans(32))"
   ]
  },
  {
   "cell_type": "code",
   "execution_count": 5,
   "metadata": {},
   "outputs": [
    {
     "name": "stdout",
     "output_type": "stream",
     "text": [
      "Dien tich hinh tron co ban kinh 4.66 la 68.22\n"
     ]
    }
   ],
   "source": [
    "#[Thực hành] Hàm tính diện tích hình tròn\n",
    "import math\n",
    "\n",
    "def area_circle(r):\n",
    "    return math.pi * r ** 2\n",
    "\n",
    "r = float(input('Nhap vao ban kinh: '))\n",
    "s = area_circle(r)\n",
    "print(f'Dien tich hinh tron co ban kinh {r} la {s:.2f}')"
   ]
  },
  {
   "cell_type": "code",
   "execution_count": null,
   "metadata": {},
   "outputs": [],
   "source": []
  }
 ],
 "metadata": {
  "kernelspec": {
   "display_name": "Python 3",
   "language": "python",
   "name": "python3"
  },
  "language_info": {
   "codemirror_mode": {
    "name": "ipython",
    "version": 3
   },
   "file_extension": ".py",
   "mimetype": "text/x-python",
   "name": "python",
   "nbconvert_exporter": "python",
   "pygments_lexer": "ipython3",
   "version": "3.11.5"
  }
 },
 "nbformat": 4,
 "nbformat_minor": 2
}
