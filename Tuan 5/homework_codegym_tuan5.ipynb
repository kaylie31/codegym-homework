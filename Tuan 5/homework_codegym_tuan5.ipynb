{
 "cells": [
  {
   "cell_type": "code",
   "execution_count": 2,
   "metadata": {},
   "outputs": [],
   "source": [
    "# [Bài tập] Vẽ nhà sử dụng hàm\n",
    "import tkinter as tk\n",
    "\n",
    "# Tạo cửa sổ và canvas\n",
    "root = tk.Tk()\n",
    "root.title(\"Vẽ Nhà\")\n",
    "canvas = tk.Canvas(root, width=300, height=300)\n",
    "canvas.pack()\n",
    "\n",
    "# Vẽ hình chữ nhật màu xanh lá cây cho cảnh nền\n",
    "canvas.create_rectangle(0, 150, 300, 300, fill=\"green\")\n",
    "\n",
    "# Vẽ hình chữ nhật màu đỏ cho ngôi nhà\n",
    "canvas.create_rectangle(50, 100, 250, 200, fill=\"red\")\n",
    "\n",
    "# Vẽ cửa sổ màu vàng\n",
    "canvas.create_rectangle(75, 125, 125, 175, fill=\"yellow\")\n",
    "\n",
    "# Vẽ cửa màu nâu\n",
    "canvas.create_rectangle(175, 125, 225, 175, fill=\"brown\")\n",
    "\n",
    "# Vẽ mái nhà màu xám\n",
    "canvas.create_polygon(50, 100, 250, 100, 150, 50, fill=\"gray\")\n",
    "\n",
    "# Bắt đầu vòng lặp sự kiện\n",
    "root.mainloop()\n"
   ]
  },
  {
   "cell_type": "code",
   "execution_count": 6,
   "metadata": {},
   "outputs": [],
   "source": [
    "# [Bài tập] Xây nhà ước mơ sử dụng hàm\n",
    "import tkinter as tk\n",
    "\n",
    "# Tạo cửa sổ và canvas\n",
    "root = tk.Tk()\n",
    "root.title(\"Vẽ Nhà\")\n",
    "canvas = tk.Canvas(root, width=500, height=500)\n",
    "canvas.pack()\n",
    "\n",
    "# Vẽ hình chữ nhật màu xanh lá cây cho cảnh nền\n",
    "canvas.create_rectangle(0, 150, 500, 500, fill=\"green\")\n",
    "\n",
    "# Vẽ hình chữ nhật màu đỏ cho ngôi nhà\n",
    "canvas.create_rectangle(50, 100, 250, 200, fill=\"red\")\n",
    "\n",
    "# Vẽ cửa sổ màu vàng\n",
    "canvas.create_rectangle(75, 125, 125, 175, fill=\"yellow\")\n",
    "\n",
    "# Vẽ cửa màu nâu\n",
    "canvas.create_rectangle(175, 125, 225, 175, fill=\"brown\")\n",
    "\n",
    "# Vẽ mái nhà màu xám\n",
    "canvas.create_polygon(50, 100, 250, 100, 150, 50, fill=\"gray\")\n",
    "\n",
    "def draw_tree(canvas, x, y):\n",
    "    # Vẽ thân cây (hình chữ nhật màu nâu)\n",
    "    canvas.create_rectangle(x - 10, y, x + 10, y + 60, fill=\"brown\")\n",
    "\n",
    "    # Vẽ lá cây (hình tròn màu xanh lá cây)\n",
    "    canvas.create_oval(x - 30, y - 30, x + 30, y + 30, fill=\"green\")\n",
    "\n",
    "def draw_person(canvas, x, y):\n",
    "    # Vẽ đầu người (hình tròn màu da)\n",
    "    canvas.create_oval(x - 20, y - 20, x + 20, y + 20, fill=\"beige\")\n",
    "\n",
    "    # Vẽ cơ thể người (hình chữ nhật màu áo)\n",
    "    canvas.create_rectangle(x - 20, y, x + 20, y + 60, fill=\"blue\")\n",
    "\n",
    "    # Vẽ chân người (hình chữ nhật màu quần)\n",
    "    canvas.create_rectangle(x - 20, y + 60, x + 20, y + 100, fill=\"black\")\n",
    "\n",
    "\n",
    "# Vẽ cây và người bằng cách gọi hàm vẽ\n",
    "draw_tree(canvas, 100, 200)\n",
    "draw_tree(canvas, 300, 200)\n",
    "\n",
    "draw_person(canvas, 200, 300)\n",
    "\n",
    "# Bắt đầu vòng lặp sự kiện\n",
    "root.mainloop()"
   ]
  },
  {
   "cell_type": "code",
   "execution_count": 7,
   "metadata": {},
   "outputs": [
    {
     "name": "stdout",
     "output_type": "stream",
     "text": [
      "[1, 2, 22, 45, 33, 3]\n"
     ]
    }
   ],
   "source": [
    "# [Thực hành] Loại bỏ phần tử lớn nhất trong danh sách\n",
    "numbers = [1, 2, 66, 22, 45, 33, 3]\n",
    "\n",
    "def remove_largest_number(numbers):\n",
    "    largest = 0\n",
    "    for number in numbers:\n",
    "        if number > largest:\n",
    "            largest = number\n",
    "    numbers.remove(largest)\n",
    "\n",
    "\n",
    "remove_largest_number(numbers)\n",
    "print(numbers)"
   ]
  },
  {
   "cell_type": "code",
   "execution_count": 8,
   "metadata": {},
   "outputs": [],
   "source": [
    "# [Thực hành] Vẽ vòng tròn hình vuông\n",
    "\n",
    "import turtle\n",
    "square = turtle.Turtle()\n",
    "\n",
    "def draw_square(angle):\n",
    "    for i in range(3):\n",
    "        square.forward(100)\n",
    "        square.right(90)    \n",
    "\n",
    "    square.forward(100)\n",
    "    square.right(90 + angle)\n",
    "    \n",
    "step = 36\n",
    "angle = 360 / step\n",
    "for i in range(step):\n",
    "    draw_square(angle) \n",
    "\n",
    "turtle.done()"
   ]
  },
  {
   "cell_type": "code",
   "execution_count": 9,
   "metadata": {},
   "outputs": [
    {
     "name": "stdout",
     "output_type": "stream",
     "text": [
      "Fruits inside function ['Orange', 'Apple', 'Grapes', 'Mango']\n",
      "Fruits outside function ['Orange', 'Apple', 'Grapes', 'Mango']\n"
     ]
    }
   ],
   "source": [
    "# [Thực hành] Hiển thị danh sách quả yêu thích\n",
    "fruits = [\"Orange\", \"Apple\", \"Grapes\"]\n",
    "\n",
    "def add_fruit(fruits, fruit_to_add):    \n",
    "    fruits.append(fruit_to_add)    \n",
    "    print('Fruits inside function', fruits)\n",
    "\n",
    "fruit_to_add = \"Mango\"\n",
    "add_fruit(fruits, fruit_to_add)\n",
    "print('Fruits outside function', fruits)"
   ]
  },
  {
   "cell_type": "code",
   "execution_count": 10,
   "metadata": {},
   "outputs": [
    {
     "name": "stdout",
     "output_type": "stream",
     "text": [
      "4 + 3 = 7\n"
     ]
    }
   ],
   "source": [
    "# [Thực hành] Tạo máy tính đơn giản\n",
    "def add(num1, num2):\n",
    "    return num1 + num2\n",
    "  \n",
    "def subtract(num1, num2):\n",
    "    return num1 - num2\n",
    "  \n",
    "def multiply(num1, num2):\n",
    "    return num1 * num2\n",
    "\n",
    "def divide(num1, num2):\n",
    "    return num1 / num2\n",
    "    \n",
    "number_1 = int(input(\"Enter first number: \"))\n",
    "number_2 = int(input(\"Enter second number: \"))\n",
    "option = input(\"Enter the operation +, -, *, / :\")\n",
    "\n",
    "if option == '+':\n",
    "    print(number_1, \"+\", number_2, \"=\", add(number_1, number_2))\n",
    "  \n",
    "elif option == '-':\n",
    "    print(number_1, \"-\", number_2, \"=\", subtract(number_1, number_2))\n",
    "  \n",
    "elif option == '*':\n",
    "    print(number_1, \"*\", number_2, \"=\", multiply(number_1, number_2))\n",
    "  \n",
    "elif option == '/':\n",
    "    print(number_1, \"/\", number_2, \"=\", divide(number_1, number_2))\n",
    "    \n",
    "else:\n",
    "    print(\"Invalid input\")"
   ]
  },
  {
   "cell_type": "code",
   "execution_count": 11,
   "metadata": {},
   "outputs": [
    {
     "ename": "NameError",
     "evalue": "name 'expenses' is not defined",
     "output_type": "error",
     "traceback": [
      "\u001b[0;31m---------------------------------------------------------------------------\u001b[0m",
      "\u001b[0;31mNameError\u001b[0m                                 Traceback (most recent call last)",
      "\u001b[1;32m/Users/kln/Documents/CodeGym/git-project/codegym-homework/codegym-homework/Tuan 5/homework_codegym_tuan5.ipynb Cell 7\u001b[0m line \u001b[0;36m2\n\u001b[1;32m     <a href='vscode-notebook-cell:/Users/kln/Documents/CodeGym/git-project/codegym-homework/codegym-homework/Tuan%205/homework_codegym_tuan5.ipynb#W6sZmlsZQ%3D%3D?line=16'>17</a>\u001b[0m     \u001b[39melse\u001b[39;00m:\n\u001b[1;32m     <a href='vscode-notebook-cell:/Users/kln/Documents/CodeGym/git-project/codegym-homework/codegym-homework/Tuan%205/homework_codegym_tuan5.ipynb#W6sZmlsZQ%3D%3D?line=17'>18</a>\u001b[0m         \u001b[39mprint\u001b[39m(item_name \u001b[39m+\u001b[39m \u001b[39m\"\u001b[39m\u001b[39m not in list\u001b[39m\u001b[39m\"\u001b[39m)\n\u001b[0;32m---> <a href='vscode-notebook-cell:/Users/kln/Documents/CodeGym/git-project/codegym-homework/codegym-homework/Tuan%205/homework_codegym_tuan5.ipynb#W6sZmlsZQ%3D%3D?line=19'>20</a>\u001b[0m \u001b[39mprint\u001b[39m(\u001b[39m\"\u001b[39m\u001b[39mYour expenses:\u001b[39m\u001b[39m\"\u001b[39m, expenses)\n\u001b[1;32m     <a href='vscode-notebook-cell:/Users/kln/Documents/CodeGym/git-project/codegym-homework/codegym-homework/Tuan%205/homework_codegym_tuan5.ipynb#W6sZmlsZQ%3D%3D?line=21'>22</a>\u001b[0m \u001b[39mprint\u001b[39m(\u001b[39m\"\u001b[39m\u001b[39mWhat do you want to do? -\u001b[39m\u001b[39m\\n\u001b[39;00m\u001b[39m\"\u001b[39m\\\n\u001b[1;32m     <a href='vscode-notebook-cell:/Users/kln/Documents/CodeGym/git-project/codegym-homework/codegym-homework/Tuan%205/homework_codegym_tuan5.ipynb#W6sZmlsZQ%3D%3D?line=22'>23</a>\u001b[0m         \u001b[39m\"\u001b[39m\u001b[39m1. Add\u001b[39m\u001b[39m\\n\u001b[39;00m\u001b[39m\"\u001b[39m \\\n\u001b[1;32m     <a href='vscode-notebook-cell:/Users/kln/Documents/CodeGym/git-project/codegym-homework/codegym-homework/Tuan%205/homework_codegym_tuan5.ipynb#W6sZmlsZQ%3D%3D?line=23'>24</a>\u001b[0m         \u001b[39m\"\u001b[39m\u001b[39m2. Remove\u001b[39m\u001b[39m\"\u001b[39m)\n\u001b[1;32m     <a href='vscode-notebook-cell:/Users/kln/Documents/CodeGym/git-project/codegym-homework/codegym-homework/Tuan%205/homework_codegym_tuan5.ipynb#W6sZmlsZQ%3D%3D?line=25'>26</a>\u001b[0m option \u001b[39m=\u001b[39m \u001b[39mint\u001b[39m(\u001b[39minput\u001b[39m(\u001b[39m\"\u001b[39m\u001b[39mSelect option 1 or 2: \u001b[39m\u001b[39m\"\u001b[39m))\n",
      "\u001b[0;31mNameError\u001b[0m: name 'expenses' is not defined"
     ]
    }
   ],
   "source": [
    "# [Bài tập] Ứng dụng quản lý chi tiêu cá nhân\n",
    "\n",
    "def add_item(myTempList, item):    \n",
    "    myTempList.append(item)\n",
    "\n",
    "def find_index_item(myTempList, item_name):\n",
    "    result = -1\n",
    "    length = len(myTempList)\n",
    "    for i in range(length):\n",
    "        if myTempList[i]['name'] == item_name:\n",
    "            result = i\n",
    "    return result\n",
    "\n",
    "def remove_item(myTempList, item_name):\n",
    "    if find_index_item(myTempList, item_name) > -1:\n",
    "        del myTempList[find_index_item(myTempList, item_name)]\n",
    "    else:\n",
    "        print(item_name + \" not in list\")\n",
    "\n",
    "print(\"Your expenses:\", expenses)\n",
    "\n",
    "print(\"What do you want to do? -\\n\"\\\n",
    "        \"1. Add\\n\" \\\n",
    "        \"2. Remove\")\n",
    "\n",
    "option = int(input(\"Select option 1 or 2: \"))\n",
    "\n",
    "name_input = input(\"Item name: \")\n",
    "\n",
    "if option == 1:\n",
    "    cost_input = int(input(\"Item cost: \"))\n",
    "    date_input = input(\"Date: \")\n",
    "    item = {'name': name_input, 'cost':cost_input, 'date':date_input}\n",
    "    add_item(expenses, item)\n",
    "    print(\"Your expenses: \", expenses)\n",
    "elif option == 2:\n",
    "    remove_item(expenses, name_input)\n",
    "    print(\"Your expenses: \", expenses)\n",
    "else:\n",
    "    print(\"Invalid input\")"
   ]
  },
  {
   "cell_type": "code",
   "execution_count": 12,
   "metadata": {},
   "outputs": [
    {
     "name": "stdout",
     "output_type": "stream",
     "text": [
      "Length:  11\n"
     ]
    }
   ],
   "source": [
    "# [Bài tập] Đếm số ký tự trong chuỗi sử dụng hàm\n",
    "\n",
    "input_str = input('Your string: ')\n",
    "\n",
    "def count_chars(txt):\n",
    "    result = 0\n",
    "    for char in txt:\n",
    "        result += 1\n",
    "    return result\n",
    "\n",
    "print('Length: ', count_chars(input_str))"
   ]
  },
  {
   "cell_type": "code",
   "execution_count": 13,
   "metadata": {},
   "outputs": [
    {
     "name": "stdout",
     "output_type": "stream",
     "text": [
      "Original numbers:  4 6 3\n",
      "Sorted numbers:  3 4 6\n"
     ]
    }
   ],
   "source": [
    "# [Bài tập] Sắp xếp các số nguyên\n",
    "x = int(input(\"Enter first number: \"))\n",
    "y = int(input(\"Enter second number: \"))\n",
    "z = int(input(\"Enter third number: \"))\n",
    "\n",
    "temp = 0\n",
    "\n",
    "def sort_numbers(num1,num2,num3):\n",
    "    if num2 < num1 and num2 < num3:\n",
    "        temp = num1\n",
    "        num1 = num2\n",
    "        num2 = temp\n",
    "\n",
    "    elif num3 < num1 and num3 < num2:\n",
    "        temp = num1\n",
    "        num1 = num3\n",
    "        num3 = temp\n",
    "\n",
    "    if num3 < num2:\n",
    "        temp = num2\n",
    "        num2 = num3\n",
    "        num3 = temp\n",
    "    return (num1, num2, num3)\n",
    "a, b, c = sort_numbers(x, y, z)\n",
    "print(\"Original numbers: \", x, y, z)\n",
    "print(\"Sorted numbers: \", a, b, c)"
   ]
  },
  {
   "cell_type": "code",
   "execution_count": 17,
   "metadata": {},
   "outputs": [
    {
     "name": "stdout",
     "output_type": "stream",
     "text": [
      "2\n"
     ]
    }
   ],
   "source": [
    "# [Bài tập] Tìm giá trị nhỏ nhất trong danh sách\n",
    "numbers = [88, 2, 66, 22, 45, 33, 3]\n",
    "\n",
    "def find_smallest(list_of_num):\n",
    "    smallest = list_of_num[0]\n",
    "    for num in list_of_num:\n",
    "        if num < smallest:\n",
    "            smallest = num\n",
    "\n",
    "    return smallest\n",
    "\n",
    "print(find_smallest(numbers))"
   ]
  },
  {
   "cell_type": "code",
   "execution_count": null,
   "metadata": {},
   "outputs": [],
   "source": []
  }
 ],
 "metadata": {
  "kernelspec": {
   "display_name": "Python 3",
   "language": "python",
   "name": "python3"
  },
  "language_info": {
   "codemirror_mode": {
    "name": "ipython",
    "version": 3
   },
   "file_extension": ".py",
   "mimetype": "text/x-python",
   "name": "python",
   "nbconvert_exporter": "python",
   "pygments_lexer": "ipython3",
   "version": "3.11.5"
  }
 },
 "nbformat": 4,
 "nbformat_minor": 2
}
