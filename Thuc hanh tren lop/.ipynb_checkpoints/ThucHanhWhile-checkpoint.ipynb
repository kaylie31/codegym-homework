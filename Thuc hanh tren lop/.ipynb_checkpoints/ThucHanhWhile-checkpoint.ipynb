{
 "cells": [
  {
   "cell_type": "code",
   "execution_count": null,
   "id": "272a3a95",
   "metadata": {},
   "outputs": [],
   "source": [
    "'''\n",
    "Khởi động 1: Viết chương trình in ra tất cả các số chia hết cho cả 5 và 7 trong khoảng từ 1500 đến 2700\n",
    "'''"
   ]
  },
  {
   "cell_type": "code",
   "execution_count": 15,
   "id": "18dbe371",
   "metadata": {},
   "outputs": [
    {
     "name": "stdout",
     "output_type": "stream",
     "text": [
      "1505\n",
      "1540\n",
      "1575\n",
      "1610\n",
      "1645\n",
      "1680\n",
      "1715\n",
      "1750\n",
      "1785\n",
      "1820\n",
      "1855\n",
      "1890\n",
      "1925\n",
      "1960\n",
      "1995\n",
      "2030\n",
      "2065\n",
      "2100\n",
      "2135\n",
      "2170\n",
      "2205\n",
      "2240\n",
      "2275\n",
      "2310\n",
      "2345\n",
      "2380\n",
      "2415\n",
      "2450\n",
      "2485\n",
      "2520\n",
      "2555\n",
      "2590\n",
      "2625\n",
      "2660\n",
      "2695\n"
     ]
    }
   ],
   "source": [
    "so = 1500\n",
    "while so <=2700:\n",
    "    if so % 5 == 0 and so % 7 == 0:\n",
    "        print(so)\n",
    "    \n",
    "    so +=1"
   ]
  },
  {
   "cell_type": "code",
   "execution_count": null,
   "id": "87f74c6c",
   "metadata": {},
   "outputs": [],
   "source": [
    "'''\n",
    "Bài 1: Viết chương trình nhập vào chiều cao tam giác vuông và in ra tam giác có hình dạng như sau:\n",
    "*****\n",
    "****\n",
    "***\n",
    "** \n",
    "*\n",
    "'''"
   ]
  },
  {
   "cell_type": "code",
   "execution_count": 18,
   "id": "ea4c14a8",
   "metadata": {},
   "outputs": [
    {
     "name": "stdin",
     "output_type": "stream",
     "text": [
      "Nhap chieu cao:  5\n"
     ]
    },
    {
     "name": "stdout",
     "output_type": "stream",
     "text": [
      "* * * * * \n",
      "* * * * \n",
      "* * * \n",
      "* * \n",
      "* \n"
     ]
    }
   ],
   "source": [
    "'''\n",
    "Bài 2: Viết chương trình nhập vào chiều cao tam giác vuông và in ra tam giác có hình dạng như sau:\n",
    "* * * * * *\n",
    "* * * * *\n",
    "* * * *\n",
    "* * *\n",
    "* *\n",
    "*\n",
    "'''\n",
    "chieu_cao = int(input(\"Nhap chieu cao: \"))\n",
    "\n",
    "while chieu_cao > 0:\n",
    "    print(\"* \" * chieu_cao)\n",
    "    \n",
    "    chieu_cao -= 1\n"
   ]
  },
  {
   "cell_type": "code",
   "execution_count": 40,
   "id": "bd17e085",
   "metadata": {},
   "outputs": [
    {
     "name": "stdin",
     "output_type": "stream",
     "text": [
      "Nhap chieu cao:  4\n"
     ]
    },
    {
     "name": "stdout",
     "output_type": "stream",
     "text": [
      "* - * - * - * - \n",
      "* - * - * - \n",
      "* - * - \n",
      "* - \n"
     ]
    }
   ],
   "source": [
    "'''\n",
    "Bài 3: Viết chương trình nhập vào chiều cao tam giác vuông và in ra tam giác có hình dạng như sau:\n",
    "* - * - *\n",
    "* - * -\n",
    "* - *\n",
    "* -\n",
    "*\n",
    "'''\n",
    "\n",
    "chieu_cao = int(input(\"Nhap chieu cao: \"))\n",
    "\n",
    "while chieu_cao > 0:\n",
    "    print(\"* - \" * chieu_cao)\n",
    "    \n",
    "    chieu_cao -= 1"
   ]
  },
  {
   "cell_type": "code",
   "execution_count": 27,
   "id": "105b66bc",
   "metadata": {},
   "outputs": [
    {
     "name": "stdin",
     "output_type": "stream",
     "text": [
      "Nhap so:  22\n"
     ]
    },
    {
     "name": "stdout",
     "output_type": "stream",
     "text": [
      "1\n",
      "2\n",
      "py\n",
      "4\n",
      "5\n",
      "py\n",
      "thon\n",
      "8\n",
      "py\n",
      "10\n",
      "11\n",
      "py\n",
      "13\n",
      "thon\n",
      "py\n",
      "16\n",
      "17\n",
      "py\n",
      "19\n",
      "20\n",
      "python\n",
      "22\n"
     ]
    }
   ],
   "source": [
    "'''\n",
    "Bài 4: Viết chương trình nhập vào một số nguyên n và in ra các số từ 1 đến n với các trường hợp ngoại lệ như sau:\n",
    "- Nếu số đó chia hết cho 3 thì in \"py\"\n",
    "- Nếu số đó chia hết cho 7 thì in \"thon\"\n",
    "- Nếu số đó chia hết cho cả 3 và 4 thì in \"python\"\n",
    "\n",
    "Ví dụ: n = 25\n",
    "1\n",
    "2\n",
    "py\n",
    "4\n",
    "5\n",
    "py\n",
    "thon\n",
    "8\n",
    "py\n",
    "10\n",
    "11\n",
    "py\n",
    "13\n",
    "thon\n",
    "py\n",
    "16\n",
    "17\n",
    "py\n",
    "19\n",
    "20\n",
    "python\n",
    "22\n",
    "23\n",
    "py\n",
    "25\n",
    "'''\n",
    "n = int(input(\"Nhap so: \"))\n",
    "i = 1\n",
    "while i <= n:\n",
    "    if i % 3 == 0 and i % 7 == 0:\n",
    "        print('python')\n",
    "    elif i % 3 == 0:\n",
    "        print('py')\n",
    "    elif i % 7 == 0:\n",
    "        print('thon')\n",
    "    else:\n",
    "        print(i)\n",
    "\n",
    "    i += 1"
   ]
  },
  {
   "cell_type": "code",
   "execution_count": null,
   "id": "3689744c",
   "metadata": {},
   "outputs": [],
   "source": [
    "'''\n",
    "Bài 5: Viết chương trình nhập vào một số và kiểm tra xem số đó có phải là số nguyên tố hay không\n",
    "Note: Số nguyên tố là số chỉ chia hết cho 1 và chính nó\n",
    "'''"
   ]
  },
  {
   "cell_type": "code",
   "execution_count": 36,
   "id": "d76fa311",
   "metadata": {},
   "outputs": [
    {
     "name": "stdout",
     "output_type": "stream",
     "text": [
      "Bua Keo Bao\n"
     ]
    },
    {
     "name": "stdin",
     "output_type": "stream",
     "text": [
      "Nhap so tu 1 den 3:  2\n"
     ]
    },
    {
     "name": "stdout",
     "output_type": "stream",
     "text": [
      "May chon 1, nguoi choi chon 2\n",
      "May thang\n"
     ]
    }
   ],
   "source": [
    "'''\n",
    "Bài 6: Viết chương trình mô phỏng trò chơi kéo búa bao theo luật chơi như sau:\n",
    "Quy ước: 1 - búa, 2 - kéo, 3 - bao\n",
    "Khi trò chơi bắt đầu, yêu cầu người chơi nhập 1 số từ bàn phím đại diện cho kéo, búa, bao\n",
    "Chương trình tự random ra một lựa chọn từ 1 đến 3.\n",
    "Nếu người chơi thua thì tiếp tục chơi cho đến khi thắng thì kết thúc chương trình.\n",
    "Ví dụ:\n",
    "\n",
    "Mời lựa chọn(1 - búa, 2 - kéo, 3 - bao): 1\n",
    "Máy tính chọn: 3\n",
    "Người chơi thua.\n",
    "\n",
    "Mời lựa chọn(1 - búa, 2 - kéo, 3 - bao): 2\n",
    "Máy tính chọn: 1\n",
    "Người chơi thua.\n",
    "\n",
    "Mời lựa chọn(1 - búa, 2 - kéo, 3 - bao): 1\n",
    "Máy tính chọn: 2\n",
    "Người chơi thắng.\n",
    "'''\n",
    "\n",
    "print('Bua Keo Bao')\n",
    "\n",
    "from random import randint\n",
    "\n",
    "may_tinh = randint(1,3)\n",
    "nguoi_choi = int(input(\"Nhap so tu 1 den 3: \"))\n",
    "print (f\"May chon {may_tinh}, nguoi choi chon {nguoi_choi}\")\n",
    "\n",
    "if may_tinh == nguoi_choi:\n",
    "    print('Hoa')\n",
    "elif may_tinh == 1:\n",
    "    print(\"Nguoi thang\" if may_tinh == 2 else \"May thang\")\n",
    "elif may_tinh == 2:\n",
    "    print(\"Nguoi thang\" if may_tinh == 3 else \"May thang\")\n",
    "elif may_tinh == 3:\n",
    "    print(\"Nguoi thang\" if may_tinh == 1 else \"May thang\")\n",
    "    "
   ]
  },
  {
   "cell_type": "code",
   "execution_count": 11,
   "id": "ee7cf76e-6cd3-47dd-b431-8fe56417d86c",
   "metadata": {},
   "outputs": [
    {
     "name": "stdin",
     "output_type": "stream",
     "text": [
      "Nhap chuoi:  q\n"
     ]
    },
    {
     "name": "stdout",
     "output_type": "stream",
     "text": [
      "Ket thuc\n"
     ]
    }
   ],
   "source": [
    "# nhap chuoi. neu nhap 'q' hoac chuoi rong thi dung lenh break\n",
    "\n",
    "while True:\n",
    "    chuoi_nhap = input(\"Nhap chuoi: \")\n",
    "    if chuoi_nhap.lower() == 'q' or chuoi_nhap == '':\n",
    "        print('Ket thuc')\n",
    "        break\n",
    "    print(chuoi_nhap)"
   ]
  },
  {
   "cell_type": "code",
   "execution_count": 10,
   "id": "0b083967-eb57-4c88-b21d-a5267cc9290a",
   "metadata": {},
   "outputs": [
    {
     "name": "stdout",
     "output_type": "stream",
     "text": [
      "Hello world\n",
      "Hello world\n",
      "Hello world\n",
      "Hello world\n",
      "Hello world\n",
      "Hello world\n",
      "Hello world\n",
      "Hello world\n",
      "Hello world\n",
      "Hello world\n",
      "Kết thúc vòng lặp while\n"
     ]
    }
   ],
   "source": [
    "count = 0\n",
    "while count < 10:\n",
    "    count += 1\n",
    "    print(\"Hello world\")\n",
    "else:\n",
    "    print(\"Kết thúc vòng lặp while\")"
   ]
  },
  {
   "cell_type": "code",
   "execution_count": 13,
   "id": "ec471b62-1921-4b1c-a4e4-6d6e93002419",
   "metadata": {},
   "outputs": [
    {
     "name": "stdout",
     "output_type": "stream",
     "text": [
      "1\n",
      "2\n",
      "Continue\n",
      "4\n",
      "5\n",
      "Continue\n",
      "7\n",
      "8\n",
      "Continue\n",
      "10\n",
      "11\n",
      "Break\n"
     ]
    }
   ],
   "source": [
    "so = 1\n",
    "while so < 15:\n",
    "    if so % 12 == 0:\n",
    "        print(\"Break\")\n",
    "        break\n",
    "    elif so % 3 ==0:\n",
    "        print(\"Continue\")\n",
    "        so += 1\n",
    "        continue\n",
    "    else:\n",
    "        print(so)\n",
    "    so += 1"
   ]
  },
  {
   "cell_type": "code",
   "execution_count": null,
   "id": "10a1f19f-c0b7-434c-bd19-7366f9dc05f2",
   "metadata": {},
   "outputs": [],
   "source": []
  }
 ],
 "metadata": {
  "kernelspec": {
   "display_name": "Python 3 (ipykernel)",
   "language": "python",
   "name": "python3"
  },
  "language_info": {
   "codemirror_mode": {
    "name": "ipython",
    "version": 3
   },
   "file_extension": ".py",
   "mimetype": "text/x-python",
   "name": "python",
   "nbconvert_exporter": "python",
   "pygments_lexer": "ipython3",
   "version": "3.11.5"
  }
 },
 "nbformat": 4,
 "nbformat_minor": 5
}
