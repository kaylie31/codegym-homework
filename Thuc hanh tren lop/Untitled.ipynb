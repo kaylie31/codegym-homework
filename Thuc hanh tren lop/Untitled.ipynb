{
 "cells": [
  {
   "cell_type": "code",
   "execution_count": 7,
   "id": "134ed153-f7df-49a4-a7c6-1c8610f900b0",
   "metadata": {},
   "outputs": [
    {
     "name": "stdout",
     "output_type": "stream",
     "text": [
      "7 x  1 = 7\n",
      "7 x  2 = 14\n",
      "7 x  3 = 21\n",
      "7 x  4 = 28\n",
      "7 x  5 = 35\n",
      "7 x  6 = 42\n",
      "7 x  7 = 49\n",
      "7 x  8 = 56\n",
      "7 x  9 = 63\n",
      "7 x 10 = 70\n"
     ]
    }
   ],
   "source": [
    "def in_bang_cuu_chuong(N: int):\n",
    "    for i in range(1,11):\n",
    "        print(f\"{N} x {i:2} = {N * i}\")\n",
    "\n",
    "in_bang_cuu_chuong(7)"
   ]
  },
  {
   "cell_type": "code",
   "execution_count": 8,
   "id": "2a05fbd3-acaf-42a4-8c39-db04605dca75",
   "metadata": {},
   "outputs": [
    {
     "name": "stdout",
     "output_type": "stream",
     "text": [
      "3.414213562373095\n"
     ]
    }
   ],
   "source": [
    "import math\n",
    "def tong_can_hai(x,y):\n",
    "    return math.sqrt(x) + math.sqrt(y)\n",
    "\n",
    "gia_tri = tong_can_hai(2,4)\n",
    "print(gia_tri)"
   ]
  },
  {
   "cell_type": "code",
   "execution_count": null,
   "id": "3ee31d44-1f60-4b7c-86d2-51bb70abe9fb",
   "metadata": {},
   "outputs": [],
   "source": []
  }
 ],
 "metadata": {
  "kernelspec": {
   "display_name": "Python 3 (ipykernel)",
   "language": "python",
   "name": "python3"
  },
  "language_info": {
   "codemirror_mode": {
    "name": "ipython",
    "version": 3
   },
   "file_extension": ".py",
   "mimetype": "text/x-python",
   "name": "python",
   "nbconvert_exporter": "python",
   "pygments_lexer": "ipython3",
   "version": "3.11.5"
  }
 },
 "nbformat": 4,
 "nbformat_minor": 5
}
