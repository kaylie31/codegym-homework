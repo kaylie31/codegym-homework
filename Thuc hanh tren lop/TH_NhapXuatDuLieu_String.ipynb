{
 "cells": [
  {
   "cell_type": "markdown",
   "id": "82503791",
   "metadata": {},
   "source": [
    "# Thực hành nhập xuất dữ liệu và String"
   ]
  },
  {
   "cell_type": "markdown",
   "id": "60287ee1",
   "metadata": {},
   "source": [
    "## Bài 1\n",
    "Viết chương trình nhập vào 2 số nguyên `num1` và `num2`. In ra tích của 2 số nguyên đó."
   ]
  },
  {
   "cell_type": "markdown",
   "id": "c5d85e59",
   "metadata": {},
   "source": [
    "Workflow:"
   ]
  },
  {
   "cell_type": "code",
   "execution_count": null,
   "id": "0b766812",
   "metadata": {},
   "outputs": [],
   "source": []
  },
  {
   "cell_type": "markdown",
   "id": "89dda208",
   "metadata": {},
   "source": [
    "## Bài 2\n",
    "Viết chương trình nhập vào `name`(tên) của người dùng. In ra nội dung sau: \"Hello --name--\"\n",
    "\n",
    "Ví dụ:\n",
    "name = \"Long\"\n",
    "\n",
    "Kết quả in ra sẽ là:\n",
    "\"Hello Long\""
   ]
  },
  {
   "cell_type": "markdown",
   "id": "88b6254e",
   "metadata": {},
   "source": [
    "Workflow:\n"
   ]
  },
  {
   "cell_type": "code",
   "execution_count": null,
   "id": "d6000627",
   "metadata": {},
   "outputs": [],
   "source": []
  },
  {
   "cell_type": "markdown",
   "id": "a5073d2f",
   "metadata": {},
   "source": [
    "## Bài 3\n",
    "Viết chương trình nhập vào 2 số nguyên num1 và num2. In ra thương của 2 số nguyên đó (làm tròn 2 chữ số thập phân)."
   ]
  },
  {
   "cell_type": "markdown",
   "id": "36d7f695",
   "metadata": {},
   "source": [
    "Workflow:"
   ]
  },
  {
   "cell_type": "code",
   "execution_count": 8,
   "id": "f03e79c5",
   "metadata": {},
   "outputs": [
    {
     "name": "stdin",
     "output_type": "stream",
     "text": [
      "Nhập số đầu tiên:  12\n",
      "Nhập số thứ hai:  34\n"
     ]
    },
    {
     "name": "stdout",
     "output_type": "stream",
     "text": [
      "0.35294117647058826\n",
      "0.35\n",
      "12 / 34 = 0.35\n",
      "12 / 34 = 0.35\n",
      "12 / 34 = 0.35\n"
     ]
    }
   ],
   "source": [
    "num1 = int(input(\"Nhập số đầu tiên: \"))\n",
    "num2 = int(input(\"Nhập số thứ hai: \"))\n",
    "ket_qua_chia = num1 / num2\n",
    "print(ket_qua_chia)\n",
    "print(round(ket_qua_chia, 2))\n",
    "print(\"{} / {} = {:.2f}\".format(num1, num2, ket_qua_chia))\n",
    "print(\"{0} / {1} = {2:.2f}\".format(num1, num2, ket_qua_chia))\n",
    "print(f\"{num1} / {num2} = {ket_qua_chia:.2f}\")"
   ]
  },
  {
   "cell_type": "code",
   "execution_count": null,
   "id": "6f65cc04-991d-4d75-a69b-79064d106df7",
   "metadata": {},
   "outputs": [],
   "source": []
  }
 ],
 "metadata": {
  "kernelspec": {
   "display_name": "Python 3 (ipykernel)",
   "language": "python",
   "name": "python3"
  },
  "language_info": {
   "codemirror_mode": {
    "name": "ipython",
    "version": 3
   },
   "file_extension": ".py",
   "mimetype": "text/x-python",
   "name": "python",
   "nbconvert_exporter": "python",
   "pygments_lexer": "ipython3",
   "version": "3.10.7"
  }
 },
 "nbformat": 4,
 "nbformat_minor": 5
}
